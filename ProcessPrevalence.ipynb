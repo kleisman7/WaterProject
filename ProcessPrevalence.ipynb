{
 "cells": [
  {
   "cell_type": "code",
   "execution_count": 5,
   "metadata": {},
   "outputs": [],
   "source": [
    "import numpy as np\n",
    "import math\n",
    "import matplotlib.pyplot as plt\n",
    "import matplotlib\n",
    "import datetime\n",
    "import os\n",
    "import sys\n",
    "import pandas as pd\n",
    "import matplotlib.dates as mdates\n",
    "import matplotlib.ticker as mtick\n",
    "import scipy.stats\n",
    "from scipy.special import gamma\n",
    "import json\n",
    "import urllib.request\n",
    "from pandas.io.json import json_normalize #package for flattening json in pandas df\n",
    "sys.path.append('covid_chicago/')\n",
    "from plotters.aggregate_by_param import *\n",
    "from plotters.trace_selection import *\n",
    "from plotters.data_comparison import *"
   ]
  },
  {
   "cell_type": "markdown",
   "metadata": {},
   "source": [
    "# This notebook reads in the aggregated prevalence files and data files and plots it, to visualize if the prevalence is believable.  It might also combine the prevalence into weeks..."
   ]
  },
  {
   "cell_type": "code",
   "execution_count": 23,
   "metadata": {},
   "outputs": [],
   "source": [
    "agdf = pd.read_csv('../21-04-reproduce-study/simulation_output/20201216_baseline/trajectoriesDat_aggr.csv',parse_dates=['date'])"
   ]
  },
  {
   "cell_type": "code",
   "execution_count": null,
   "metadata": {},
   "outputs": [],
   "source": [
    "first_day = pd.Timestamp('2020-02-13')\n",
    "last_day = pd.Timestamp.today()\n",
    "for region in range(1,12):\n",
    "    ref_df = load_ref_df(ems_nr=ems)\n",
    "    plt.figure(figsize=(17,4.5))\n",
    "    mask = agdf.covid_region == region\n",
    "    plt.plot(agdf[mask].date, agdf[mask].new_deaths_det_median, color='b',label='median model output')\n",
    "    plt.fill_between(agdf[mask].date, agdf[mask].new_deaths_det_95CI_lower,\n",
    "                     agdf[mask].new_deaths_det_95CI_upper,\n",
    "                     color='b', linewidth=0, alpha=0.2,label='95% CI model output')\n",
    "    plt.fill_between(agdf[mask].date, agdf[mask].new_deaths_det_50CI_lower, \n",
    "                     agdf[mask].new_deaths_det_50CI_upper,\n",
    "                     color='b', linewidth=0, alpha=0.4,label='50% CI model output')\n",
    "   \n",
    "    plt.gca().set_title(f'Region {str(region)}', y=0.8, fontsize=16)\n",
    "\n",
    "    plt.gca().xaxis.set_major_formatter(mdates.DateFormatter('%b\\n%y'))\n",
    "    plt.xlim(first_day, last_day)\n",
    "    plt.grid(b=True, which='major', color='#999999', linestyle='-', alpha=0.3)\n",
    "    plt.gca().set_ylabel('New Deaths (model), Deaths',size='large')\n",
    "    plt.plot(casesdf[casesdf.covid_region==int(region)].date, \n",
    "             casesdf[casesdf.covid_region==int(region)].deaths, 'o', color='#303030', \n",
    "             linewidth=0, ms=1,label='deaths')\n",
    "    plt.plot(casesdf[casesdf.covid_region==int(region)].date, \n",
    "             casesdf[casesdf.covid_region==int(region)].deaths.rolling(window = 7, center=True).mean(), \n",
    "             c='k', alpha=1.0,label='deaths 7-day ave')    \n",
    "#     ledge=plt.legend(loc='upper right', shadow=True, fancybox=True, numpoints=1,ncol=1,fontsize=18)\n",
    "    plt.show()\n"
   ]
  },
  {
   "cell_type": "code",
   "execution_count": null,
   "metadata": {},
   "outputs": [],
   "source": []
  },
  {
   "cell_type": "code",
   "execution_count": null,
   "metadata": {},
   "outputs": [],
   "source": []
  },
  {
   "cell_type": "code",
   "execution_count": 8,
   "metadata": {},
   "outputs": [
    {
     "ename": "TypeError",
     "evalue": "'NoneType' object is not iterable",
     "output_type": "error",
     "traceback": [
      "\u001b[0;31m---------------------------------------------------------------------------\u001b[0m",
      "\u001b[0;31mTypeError\u001b[0m                                 Traceback (most recent call last)",
      "\u001b[0;32m<ipython-input-8-1d3f1de1da93>\u001b[0m in \u001b[0;36m<module>\u001b[0;34m\u001b[0m\n\u001b[0;32m----> 1\u001b[0;31m \u001b[0mcompare_ems\u001b[0m\u001b[0;34m(\u001b[0m\u001b[0;34m'20201216_baseline'\u001b[0m\u001b[0;34m,\u001b[0m\u001b[0mems\u001b[0m\u001b[0;34m=\u001b[0m\u001b[0;36m1\u001b[0m\u001b[0;34m,\u001b[0m\u001b[0mfirst_day\u001b[0m\u001b[0;34m=\u001b[0m\u001b[0mpd\u001b[0m\u001b[0;34m.\u001b[0m\u001b[0mTimestamp\u001b[0m\u001b[0;34m(\u001b[0m\u001b[0;34m'2020-02-13'\u001b[0m\u001b[0;34m)\u001b[0m\u001b[0;34m,\u001b[0m\u001b[0mlast_day\u001b[0m\u001b[0;34m=\u001b[0m\u001b[0mpd\u001b[0m\u001b[0;34m.\u001b[0m\u001b[0mTimestamp\u001b[0m\u001b[0;34m.\u001b[0m\u001b[0mtoday\u001b[0m\u001b[0;34m(\u001b[0m\u001b[0;34m)\u001b[0m\u001b[0;34m)\u001b[0m\u001b[0;34m\u001b[0m\u001b[0;34m\u001b[0m\u001b[0m\n\u001b[0m",
      "\u001b[0;32m/media/data2/katelyn/sync/research/water/WaterProject/covid_chicago/plotters/data_comparison.py\u001b[0m in \u001b[0;36mcompare_ems\u001b[0;34m(exp_name, ems, first_day, last_day, param)\u001b[0m\n\u001b[1;32m    173\u001b[0m \u001b[0;32mdef\u001b[0m \u001b[0mcompare_ems\u001b[0m\u001b[0;34m(\u001b[0m\u001b[0mexp_name\u001b[0m\u001b[0;34m,\u001b[0m \u001b[0mems\u001b[0m\u001b[0;34m,\u001b[0m \u001b[0mfirst_day\u001b[0m\u001b[0;34m,\u001b[0m \u001b[0mlast_day\u001b[0m\u001b[0;34m,\u001b[0m\u001b[0mparam\u001b[0m\u001b[0;34m=\u001b[0m\u001b[0;32mNone\u001b[0m\u001b[0;34m)\u001b[0m \u001b[0;34m:\u001b[0m\u001b[0;34m\u001b[0m\u001b[0;34m\u001b[0m\u001b[0m\n\u001b[1;32m    174\u001b[0m \u001b[0;34m\u001b[0m\u001b[0m\n\u001b[0;32m--> 175\u001b[0;31m     \u001b[0mdf\u001b[0m \u001b[0;34m=\u001b[0m \u001b[0mload_sim_data\u001b[0m\u001b[0;34m(\u001b[0m\u001b[0mexp_name\u001b[0m\u001b[0;34m)\u001b[0m\u001b[0;34m\u001b[0m\u001b[0;34m\u001b[0m\u001b[0m\n\u001b[0m\u001b[1;32m    176\u001b[0m     \u001b[0mdf\u001b[0m \u001b[0;34m=\u001b[0m \u001b[0mdf\u001b[0m\u001b[0;34m[\u001b[0m\u001b[0mdf\u001b[0m\u001b[0;34m[\u001b[0m\u001b[0;34m'date'\u001b[0m\u001b[0;34m]\u001b[0m\u001b[0;34m.\u001b[0m\u001b[0mbetween\u001b[0m\u001b[0;34m(\u001b[0m\u001b[0mfirst_day\u001b[0m\u001b[0;34m,\u001b[0m \u001b[0mlast_day\u001b[0m\u001b[0;34m)\u001b[0m\u001b[0;34m]\u001b[0m\u001b[0;34m\u001b[0m\u001b[0;34m\u001b[0m\u001b[0m\n\u001b[1;32m    177\u001b[0m     \u001b[0mdf\u001b[0m\u001b[0;34m[\u001b[0m\u001b[0;34m'critical_with_suspected'\u001b[0m\u001b[0;34m]\u001b[0m \u001b[0;34m=\u001b[0m \u001b[0mdf\u001b[0m\u001b[0;34m[\u001b[0m\u001b[0;34m'critical'\u001b[0m\u001b[0;34m]\u001b[0m\u001b[0;34m\u001b[0m\u001b[0;34m\u001b[0m\u001b[0m\n",
      "\u001b[0;32m/media/data2/katelyn/sync/research/water/WaterProject/covid_chicago/processing_helpers.py\u001b[0m in \u001b[0;36mload_sim_data\u001b[0;34m(exp_name, region_suffix, input_wdir, fname, input_sim_output_path, column_list, add_incidence, calc_prevalence, select_traces, traces_to_keep_ratio, traces_to_keep_min, verbose)\u001b[0m\n\u001b[1;32m     38\u001b[0m         \u001b[0mallcols\u001b[0m \u001b[0;34m=\u001b[0m \u001b[0mpd\u001b[0m\u001b[0;34m.\u001b[0m\u001b[0mread_csv\u001b[0m\u001b[0;34m(\u001b[0m\u001b[0mos\u001b[0m\u001b[0;34m.\u001b[0m\u001b[0mpath\u001b[0m\u001b[0;34m.\u001b[0m\u001b[0mjoin\u001b[0m\u001b[0;34m(\u001b[0m\u001b[0msim_output_path\u001b[0m\u001b[0;34m,\u001b[0m \u001b[0mfname\u001b[0m\u001b[0;34m)\u001b[0m\u001b[0;34m,\u001b[0m \u001b[0mindex_col\u001b[0m\u001b[0;34m=\u001b[0m\u001b[0;36m0\u001b[0m\u001b[0;34m,\u001b[0m\u001b[0mnrows\u001b[0m\u001b[0;34m=\u001b[0m\u001b[0;36m0\u001b[0m\u001b[0;34m)\u001b[0m\u001b[0;34m.\u001b[0m\u001b[0mcolumns\u001b[0m\u001b[0;34m.\u001b[0m\u001b[0mtolist\u001b[0m\u001b[0;34m(\u001b[0m\u001b[0;34m)\u001b[0m\u001b[0;34m\u001b[0m\u001b[0;34m\u001b[0m\u001b[0m\n\u001b[1;32m     39\u001b[0m         \u001b[0;32mif\u001b[0m \u001b[0;34m'death_det_cumul'\u001b[0m\u001b[0;34m+\u001b[0m\u001b[0mregion_suffix\u001b[0m \u001b[0;32min\u001b[0m \u001b[0mallcols\u001b[0m\u001b[0;34m:\u001b[0m\u001b[0;34m\u001b[0m\u001b[0;34m\u001b[0m\u001b[0m\n\u001b[0;32m---> 40\u001b[0;31m             \u001b[0mcolumn_list\u001b[0m \u001b[0;34m=\u001b[0m \u001b[0;34m[\u001b[0m\u001b[0mcol\u001b[0m\u001b[0;34m.\u001b[0m\u001b[0mreplace\u001b[0m\u001b[0;34m(\u001b[0m\u001b[0;34m'deaths_det_cumul'\u001b[0m\u001b[0;34m,\u001b[0m\u001b[0;34m'death_det_cumul'\u001b[0m\u001b[0;34m)\u001b[0m \u001b[0;32mfor\u001b[0m \u001b[0mcol\u001b[0m \u001b[0;32min\u001b[0m \u001b[0mcolumn_list\u001b[0m\u001b[0;34m]\u001b[0m\u001b[0;34m\u001b[0m\u001b[0;34m\u001b[0m\u001b[0m\n\u001b[0m\u001b[1;32m     41\u001b[0m         \u001b[0;32mif\u001b[0m \u001b[0mregion_suffix\u001b[0m \u001b[0;34m==\u001b[0m \u001b[0;34m'_All'\u001b[0m\u001b[0;34m:\u001b[0m\u001b[0;34m\u001b[0m\u001b[0;34m\u001b[0m\u001b[0m\n\u001b[1;32m     42\u001b[0m             \u001b[0mcolumn_list\u001b[0m \u001b[0;34m=\u001b[0m \u001b[0;34m[\u001b[0m\u001b[0mcol\u001b[0m \u001b[0;32mfor\u001b[0m \u001b[0mcol\u001b[0m \u001b[0;32min\u001b[0m \u001b[0mcolumn_list\u001b[0m \u001b[0;32mif\u001b[0m \u001b[0;34m'N_All'\u001b[0m \u001b[0;32mnot\u001b[0m \u001b[0;32min\u001b[0m \u001b[0mcol\u001b[0m\u001b[0;34m]\u001b[0m\u001b[0;34m\u001b[0m\u001b[0;34m\u001b[0m\u001b[0m\n",
      "\u001b[0;31mTypeError\u001b[0m: 'NoneType' object is not iterable"
     ]
    }
   ],
   "source": [
    "compare_ems('20201216_baseline',ems=1,first_day=pd.Timestamp('2020-02-13'),last_day=pd.Timestamp.today())"
   ]
  },
  {
   "cell_type": "code",
   "execution_count": 28,
   "metadata": {},
   "outputs": [],
   "source": [
    "outcome_channels, channels, data_channel_names, titles = get_datacomparison_channels()\n",
    "first_day = pd.Timestamp('2020-02-13')\n",
    "last_day = pd.Timestamp.today()\n",
    "logscale = False\n",
    "for ems in range(1,12):\n",
    "    ref_df = load_ref_df(ems_nr=ems)\n",
    "    fig = plt.figure(figsize=(13, 6))\n",
    "    palette = sns.color_palette('husl', 8)\n",
    "    k = 0\n",
    "    for c, channel in enumerate(['new_deaths_det']):\n",
    "        ax = fig.add_subplot(2, 3, c + 1)\n",
    "\n",
    "        mdf = agdf[agdf.covid_region==f'EMS-{str(ems)}']\n",
    "        ax.plot(mdf['date'], mdf[f'{channel}_median'], color=palette[k])\n",
    "        ax.fill_between(mdf['date'], mdf[f'{channel}_95CI_lower'], mdf[f'{channel}_95CI_upper'],\n",
    "                        color=palette[k], linewidth=0, alpha=0.2)\n",
    "        ax.fill_between(mdf['date'], mdf[f'{channel}_50CI_lower'], mdf[f'{channel}_50CI_upper'],\n",
    "                        color=palette[k], linewidth=0, alpha=0.4)\n",
    "\n",
    "        ax.set_title(titles[c], y=0.8, fontsize=12)\n",
    "        # ax.legend()\n",
    "\n",
    "        ax.set_title(titles[c], y=0.8, fontsize=12)\n",
    "        ax.set_xlim(first_day, last_day)\n",
    "        ax.xaxis.set_major_formatter(mdates.DateFormatter('%d\\n%b'))\n",
    "        ax.grid(b=True, which='major', color='#999999', linestyle='-', alpha=0.3)\n",
    "        if logscale :\n",
    "            ax.set_ylim(0.1, ymax)\n",
    "            ax.set_yscale('log')\n",
    "\n",
    "        ax.plot(ref_df['date'], ref_df[data_channel_names[c]], 'o', color='#303030', linewidth=0, ms=1)\n",
    "        ax.plot(ref_df['date'], ref_df[data_channel_names[c]].rolling(window = 7, center=True).mean(), c='k', alpha=1.0)\n",
    "    fig.tight_layout()\n",
    "#     if plot_path:\n",
    "#         plot_name = 'compare_to_data_covidregion_' + str(ems_nr)\n",
    "#         if logscale == False :\n",
    "#             plot_name = plot_name + \"_nolog\"\n",
    "#         plt.savefig(os.path.join(plot_path, plot_name + '.png'))\n",
    "#         plt.savefig(os.path.join(plot_path,'pdf',  plot_name + '.pdf'), format='PDF')\n"
   ]
  }
 ],
 "metadata": {
  "kernelspec": {
   "display_name": "Python 3",
   "language": "python",
   "name": "python3"
  },
  "language_info": {
   "codemirror_mode": {
    "name": "ipython",
    "version": 3
   },
   "file_extension": ".py",
   "mimetype": "text/x-python",
   "name": "python",
   "nbconvert_exporter": "python",
   "pygments_lexer": "ipython3",
   "version": "3.8.2"
  }
 },
 "nbformat": 4,
 "nbformat_minor": 4
}
